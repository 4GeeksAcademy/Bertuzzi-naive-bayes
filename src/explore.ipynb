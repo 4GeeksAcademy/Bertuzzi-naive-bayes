{
    "cells": [
        {
            "cell_type": "markdown",
            "metadata": {},
            "source": [
                "# Explore here"
            ]
        },
        {
            "cell_type": "markdown",
            "metadata": {},
            "source": [
                "## 1) Import required libraries"
            ]
        },
        {
            "cell_type": "code",
            "execution_count": 2,
            "metadata": {},
            "outputs": [
                {
                    "name": "stdout",
                    "output_type": "stream",
                    "text": [
                        "          package_name                                             review  \\\n",
                        "0  com.facebook.katana   privacy at least put some option appear offli...   \n",
                        "1  com.facebook.katana   messenger issues ever since the last update, ...   \n",
                        "2  com.facebook.katana   profile any time my wife or anybody has more ...   \n",
                        "3  com.facebook.katana   the new features suck for those of us who don...   \n",
                        "4  com.facebook.katana   forced reload on uploading pic on replying co...   \n",
                        "\n",
                        "   polarity  \n",
                        "0         0  \n",
                        "1         0  \n",
                        "2         0  \n",
                        "3         0  \n",
                        "4         0  \n"
                    ]
                }
            ],
            "source": [
                "# Your code here\n",
                "import os\n",
                "import pandas as pd\n",
                "import numpy as np\n",
                "import matplotlib.pyplot as plt\n",
                "import seaborn as sns\n",
                "\n",
                "data_df = pd.read_csv('playstore_reviews.csv')\n",
                "print(data_df.head())"
            ]
        },
        {
            "cell_type": "markdown",
            "metadata": {},
            "source": [
                "## 2) Drop unnecessary dimensions"
            ]
        },
        {
            "cell_type": "code",
            "execution_count": 3,
            "metadata": {},
            "outputs": [],
            "source": [
                "data_df.drop(['package_name'], axis=1, inplace=True)"
            ]
        },
        {
            "cell_type": "markdown",
            "metadata": {},
            "source": [
                "## 3) Process comment string"
            ]
        },
        {
            "cell_type": "code",
            "execution_count": 4,
            "metadata": {},
            "outputs": [],
            "source": [
                "data_df['review'] = data_df['review'].str.strip().str.lower()"
            ]
        },
        {
            "cell_type": "markdown",
            "metadata": {},
            "source": [
                "## 4) Split dataset into train and test subsets"
            ]
        },
        {
            "cell_type": "code",
            "execution_count": 5,
            "metadata": {},
            "outputs": [],
            "source": [
                "from sklearn.model_selection import train_test_split\n",
                "X = data_df['review']\n",
                "y = data_df['polarity']\n",
                "\n",
                "X_train, X_test, y_train, y_test = train_test_split(X, y, test_size=0.2, random_state=117)"
            ]
        },
        {
            "cell_type": "markdown",
            "metadata": {},
            "source": [
                "## 5) Transform text into word count matrix"
            ]
        },
        {
            "cell_type": "code",
            "execution_count": 6,
            "metadata": {},
            "outputs": [],
            "source": [
                "from sklearn.feature_extraction.text import CountVectorizer\n",
                "\n",
                "vec_model = CountVectorizer(stop_words='english')\n",
                "X_train = vec_model.fit_transform(X_train).toarray()\n",
                "X_test = vec_model.transform(X_test).toarray()\n"
            ]
        },
        {
            "cell_type": "markdown",
            "metadata": {},
            "source": [
                "## 6) Apply Gaussian Naive Bayes algorithm"
            ]
        },
        {
            "cell_type": "code",
            "execution_count": 7,
            "metadata": {},
            "outputs": [],
            "source": [
                "from sklearn.naive_bayes import GaussianNB\n",
                "\n",
                "model = GaussianNB()\n",
                "model.fit(X_train,y_train)\n",
                "\n",
                "y_pred = model.predict(X_test)\n"
            ]
        },
        {
            "cell_type": "markdown",
            "metadata": {},
            "source": [
                "## 7) Evaluate model performances"
            ]
        },
        {
            "cell_type": "code",
            "execution_count": 8,
            "metadata": {},
            "outputs": [
                {
                    "name": "stdout",
                    "output_type": "stream",
                    "text": [
                        "Model accuracy score: 0.770949720670391\n"
                    ]
                }
            ],
            "source": [
                "from sklearn.metrics import accuracy_score\n",
                "\n",
                "acc = accuracy_score(y_test, y_pred)\n",
                "print(f'Model accuracy score: {acc}')\n"
            ]
        },
        {
            "cell_type": "markdown",
            "metadata": {},
            "source": [
                "## 8) Optimize model"
            ]
        },
        {
            "cell_type": "code",
            "execution_count": 9,
            "metadata": {},
            "outputs": [
                {
                    "name": "stdout",
                    "output_type": "stream",
                    "text": [
                        "Best model parameters: {'var_smoothing': 1e-09}\n",
                        "Model accuracy score: 0.770949720670391\n"
                    ]
                }
            ],
            "source": [
                "from sklearn.model_selection import GridSearchCV\n",
                "\n",
                "hyperparams = {\n",
                "    'var_smoothing': [1e-9, 1e-8, 1e-7, 1e-6, 1e-5, 1e-4, 1e-3]\n",
                "}\n",
                "\n",
                "grid = GridSearchCV(model, hyperparams, scoring='accuracy', cv=5)\n",
                "grid.fit(X_train, y_train)\n",
                "\n",
                "print(f'Best model parameters: {grid.best_params_}')\n",
                "\n",
                "# Re-run optimized model\n",
                "opt_model = GaussianNB()\n",
                "opt_model.fit(X_train,y_train)\n",
                "\n",
                "opt_pred = opt_model.predict(X_test)\n",
                "\n",
                "opt_acc = accuracy_score(y_test, opt_pred)\n",
                "print(f'Model accuracy score: {opt_acc}')"
            ]
        }
    ],
    "metadata": {
        "kernelspec": {
            "display_name": "Python 3",
            "language": "python",
            "name": "python3"
        },
        "language_info": {
            "codemirror_mode": {
                "name": "ipython",
                "version": 3
            },
            "file_extension": ".py",
            "mimetype": "text/x-python",
            "name": "python",
            "nbconvert_exporter": "python",
            "pygments_lexer": "ipython3",
            "version": "3.10.12"
        },
        "orig_nbformat": 4
    },
    "nbformat": 4,
    "nbformat_minor": 2
}
